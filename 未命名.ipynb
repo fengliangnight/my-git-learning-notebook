{
 "cells": [
  {
   "cell_type": "markdown",
   "id": "d46ce524-cda0-4eb8-ade9-4d90bddf27b1",
   "metadata": {},
   "source": [
    "## 读取markdown文件"
   ]
  },
  {
   "cell_type": "code",
   "execution_count": 33,
   "id": "843e4f74-1368-426e-a7dd-ec4772ff9d78",
   "metadata": {
    "ExecutionIndicator": {
     "show": true
    },
    "execution": {
     "iopub.execute_input": "2025-05-15T11:58:06.490274Z",
     "iopub.status.busy": "2025-05-15T11:58:06.490013Z",
     "iopub.status.idle": "2025-05-15T11:58:06.495011Z",
     "shell.execute_reply": "2025-05-15T11:58:06.494678Z",
     "shell.execute_reply.started": "2025-05-15T11:58:06.490258Z"
    },
    "scrolled": true,
    "tags": []
   },
   "outputs": [
    {
     "data": {
      "text/markdown": [
       "# **git学习笔记**\n",
       "## **1.安装和初始化**\n",
       "```bash\n",
       "git -version # 查看版本号信息\n",
       "git config --global user.name \"fengliangnight\" # 配置用户名 其中，--global表示全局配置，对所有仓库有效  使用最多\n",
       "                                                              # --system表示系统配置，对所有用户有效 一般不会使用system\n",
       "                                                              # 缺省（local）表示本地配置，秩对本地仓库有效\n",
       "git config --global user.email username@mail.com # 配置邮箱 \n",
       "                                                 # 这两个命令只需要执行一次\n",
       "git config --global credential.helper store # 保存用户名和密码，这样就不用每次都输入了\n",
       "git config --global --list # 参看git的配置信息\n",
       "```\n",
       "## **2.新建仓库**\n",
       "创建仓库\n",
       "方式一\n",
       "```bash\n",
       "git init\n",
       "```\n",
       "方式二\n",
       "```bash\n",
       "git clone\n",
       "```\n",
       "## **3 工作区域和文件状态**\n",
       "git 的本地数据管理分为三个区域：\n",
       "工作区(Working Directory)\n",
       "暂存区(staging Area/Index)\n",
       "本地仓库(Local Repository)\n",
       "|工作区||暂存区||本地仓库|\n",
       "|-|-|-|-|-|\n",
       "|.git所在的目录|<span style=\"color:green\">$\\xrightarrow{\\text{git add}}$</span>|.git/index|<span style=\"color:green\">$\\xrightarrow{\\text{git add}}$</span>|.git/objects|\n",
       "\n",
       "git中的文件也存在几种状态\n",
       "|未跟踪(Untrack)|未修改(unmodified)|已修改(Modified)|已暂存(staged)|\n",
       "|-|-|-|-|\n",
       "|新创建的还没有被git管理起来的文件|已经被git管理起来，但是文件内容没有变化|已经修改了文件，但是还没有添加到暂存区里面|已经修改了并且已经添加到暂存区里的文件|\n",
       "            \n",
       "## **4 添加和提交文件**\n",
       "|git init|创建仓库|\n",
       "|-|-|\n",
       "|git status|查看仓库状态|\n",
       "|-|-|\n",
       "|git add|添加到暂存区|\n",
       "|-|-|\n",
       "|git commit|提交(只会提交暂存区中的文件，不会提交工作区中的文件)|\n",
       "\n",
       "```bash\n",
       "# 示例\n",
       "cd my-repo \n",
       "git status\n",
       "echo \"这是第一个文件\" > file1.txt\n",
       "ls\n",
       "cat file1.txt\n",
       "git status\n",
       "git add file1.txt\n",
       "echo \"这是第二个文件\" > file2.txt\n",
       "git status\n",
       "git commit -m \"first commit\" # 使用-m参数指定提交的信息，这个信息会被记录到仓库中 因此，file2.txt是不会被提交的仓库里面的\n",
       "echo \"file3\" > file3.txt\n",
       "echo \"file4\" > file4.txt\n",
       "echo \"file5\" > file.sh\n",
       "git status\n",
       "git add *.txt # 将所有以txt结尾的文件添加到暂存区中\n",
       "git add . # 把当前文件夹中所有文件添加到暂存区中\n",
       "git commit -m \"第二次提交\"\n",
       "git log # 查看提交记录\n",
       "git log --oneline # 查看简洁的提交记录\n",
       "```\n",
       "\n",
       "## **5 git reset回退版本**\n",
       "git reset的三种模式\n",
       "||工作区|暂存区|\n",
       "|-|-|-|\n",
       "|git reset --soft|√|√|\n",
       "|git reset --hard|×|×|\n",
       "|git reset --mixed|√|×|\n"
      ],
      "text/plain": [
       "<IPython.core.display.Markdown object>"
      ]
     },
     "metadata": {},
     "output_type": "display_data"
    }
   ],
   "source": [
    "from IPython.display import display, Markdown\n",
    "\n",
    "# 读取Markdown文件内容\n",
    "with open('git-learning-notebook.md', 'r', encoding='utf-8') as file:\n",
    "    markdown_text = file.read()\n",
    "\n",
    "# 在Notebook中渲染Markdown文本\n",
    "display(Markdown(markdown_text))"
   ]
  },
  {
   "cell_type": "code",
   "execution_count": null,
   "id": "71f6d951-af2e-43ad-8986-d1d25ac821db",
   "metadata": {},
   "outputs": [],
   "source": []
  }
 ],
 "metadata": {
  "kernelspec": {
   "display_name": "Python 3 (ipykernel)",
   "language": "python",
   "name": "python3"
  },
  "language_info": {
   "codemirror_mode": {
    "name": "ipython",
    "version": 3
   },
   "file_extension": ".py",
   "mimetype": "text/x-python",
   "name": "python",
   "nbconvert_exporter": "python",
   "pygments_lexer": "ipython3",
   "version": "3.11.11"
  }
 },
 "nbformat": 4,
 "nbformat_minor": 5
}
